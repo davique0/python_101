{
 "cells": [
  {
   "cell_type": "markdown",
   "id": "48f2163c",
   "metadata": {},
   "source": [
    "## Factorial Challenge\n",
    "\n",
    "The factorial function gives the number of possible arrangements of a set of items of length \"n\"\n",
    "\n",
    "For example, there are 4! (\"four factorial\") or 24 ways to arrange four items, which can be calculated as: \n",
    "4 \\* 3 \\* 2 \\* 1\n",
    "\n",
    "5! = 5 \\* 4 \\* 3 \\* 2 \\* 1 = 120\n",
    "\n",
    "6! = 6 \\* 5 \\* 4 \\* 3 \\* 2 \\* 1 = 720\n",
    "\n",
    "etc.\n",
    "\n",
    "In a set of 0 items (an empty set) there is only one way to arrange the items, therefore, 0! = 1\n",
    "\n",
    "For the purposes of this exercise, factorials are only defined for **positive integers** (including 0)\n",
    "\n",
    "\n"
   ]
  },
  {
   "cell_type": "code",
   "execution_count": 36,
   "id": "92af0386",
   "metadata": {},
   "outputs": [],
   "source": [
    "# Returns the value of the factorial of num if it is defined, otherwise, returns None\n",
    "def factorial(num):\n",
    "    if isinstance(num, str):\n",
    "        print('None')\n",
    "        return None\n",
    "    if num < 0:\n",
    "        print('None')\n",
    "        return None\n",
    "    if num % 1 > 0:\n",
    "        print('None')\n",
    "        return None\n",
    "    result = 1\n",
    "    while num > 0:\n",
    "        result *= num\n",
    "        num -= 1\n",
    "    return result\n",
    " \n",
    "\n"
   ]
  },
  {
   "cell_type": "code",
   "execution_count": 37,
   "id": "1d10be7a",
   "metadata": {},
   "outputs": [
    {
     "data": {
      "text/plain": [
       "120"
      ]
     },
     "execution_count": 37,
     "metadata": {},
     "output_type": "execute_result"
    }
   ],
   "source": [
    "# return 120\n",
    "factorial(5)"
   ]
  },
  {
   "cell_type": "code",
   "execution_count": 38,
   "id": "580eeb3e",
   "metadata": {},
   "outputs": [
    {
     "data": {
      "text/plain": [
       "720"
      ]
     },
     "execution_count": 38,
     "metadata": {},
     "output_type": "execute_result"
    }
   ],
   "source": [
    "# return 720\n",
    "factorial (6)"
   ]
  },
  {
   "cell_type": "code",
   "execution_count": 39,
   "id": "c43845c1",
   "metadata": {},
   "outputs": [
    {
     "data": {
      "text/plain": [
       "1"
      ]
     },
     "execution_count": 39,
     "metadata": {},
     "output_type": "execute_result"
    }
   ],
   "source": [
    "# return 1\n",
    "factorial(0)"
   ]
  },
  {
   "cell_type": "code",
   "execution_count": 40,
   "id": "8f605415",
   "metadata": {},
   "outputs": [
    {
     "name": "stdout",
     "output_type": "stream",
     "text": [
      "None\n"
     ]
    }
   ],
   "source": [
    "# return None\n",
    "factorial(-2)"
   ]
  },
  {
   "cell_type": "code",
   "execution_count": 41,
   "id": "5b973ff0",
   "metadata": {},
   "outputs": [
    {
     "name": "stdout",
     "output_type": "stream",
     "text": [
      "None\n"
     ]
    }
   ],
   "source": [
    "# return None\n",
    "factorial(1.2)"
   ]
  },
  {
   "cell_type": "code",
   "execution_count": 42,
   "id": "67f07cca",
   "metadata": {},
   "outputs": [
    {
     "name": "stdout",
     "output_type": "stream",
     "text": [
      "None\n"
     ]
    }
   ],
   "source": [
    "# return None\n",
    "factorial('spam spam spam spam spam spam')"
   ]
  },
  {
   "cell_type": "code",
   "execution_count": null,
   "id": "427edbeb-cc9e-4c7f-a12d-661fde0f4f09",
   "metadata": {},
   "outputs": [],
   "source": []
  },
  {
   "cell_type": "code",
   "execution_count": null,
   "id": "714148cd",
   "metadata": {},
   "outputs": [],
   "source": []
  }
 ],
 "metadata": {
  "kernelspec": {
   "display_name": "Python 3 (ipykernel)",
   "language": "python",
   "name": "python3"
  },
  "language_info": {
   "codemirror_mode": {
    "name": "ipython",
    "version": 3
   },
   "file_extension": ".py",
   "mimetype": "text/x-python",
   "name": "python",
   "nbconvert_exporter": "python",
   "pygments_lexer": "ipython3",
   "version": "3.9.10"
  }
 },
 "nbformat": 4,
 "nbformat_minor": 5
}
