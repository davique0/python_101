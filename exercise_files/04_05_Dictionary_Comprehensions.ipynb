{
 "cells": [
  {
   "cell_type": "markdown",
   "id": "f76cf3b1",
   "metadata": {},
   "source": [
    "## Dictionary Comprehensions"
   ]
  },
  {
   "cell_type": "code",
   "execution_count": 1,
   "id": "92d3299d",
   "metadata": {},
   "outputs": [
    {
     "data": {
      "text/plain": [
       "{'a': 'aardvark', 'b': 'bear', 'c': 'cat', 'd': 'dog'}"
      ]
     },
     "execution_count": 1,
     "metadata": {},
     "output_type": "execute_result"
    }
   ],
   "source": [
    "animalList = [('a', 'aardvark'), ('b', 'bear'), ('c', 'cat'), ('d', 'dog')]\n",
    "animals = {item[0]: item[1] for item in animalList}\n",
    "animals"
   ]
  },
  {
   "cell_type": "code",
   "execution_count": 2,
   "id": "68206d1c",
   "metadata": {},
   "outputs": [
    {
     "data": {
      "text/plain": [
       "{'a': 'aardvark', 'b': 'bear', 'c': 'cat', 'd': 'dog'}"
      ]
     },
     "execution_count": 2,
     "metadata": {},
     "output_type": "execute_result"
    }
   ],
   "source": [
    "animals = {key: value for key, value in animalList}\n",
    "animals"
   ]
  },
  {
   "cell_type": "code",
   "execution_count": 7,
   "id": "906a5e13-f4dc-429b-9a89-a5a23f8d3b23",
   "metadata": {},
   "outputs": [
    {
     "data": {
      "text/plain": [
       "{'a': ['aardvark', 'alberto'],\n",
       " 'b': ['bear', 'bernardo'],\n",
       " 'c': ['cat', 'carlos'],\n",
       " 'd': ['dog', 'diego']}"
      ]
     },
     "execution_count": 7,
     "metadata": {},
     "output_type": "execute_result"
    }
   ],
   "source": [
    "nameList = [('a', 'aardvark', 'alberto'), ('b', 'bear','bernardo'), ('c', 'cat','carlos'), ('d', 'dog','diego')]\n",
    "names = {key: [value1, value2] for key, value1, value2 in nameList }\n",
    "names"
   ]
  },
  {
   "cell_type": "code",
   "execution_count": 8,
   "id": "96bdf466",
   "metadata": {},
   "outputs": [
    {
     "data": {
      "text/plain": [
       "dict_items([('a', 'aardvark'), ('b', 'bear'), ('c', 'cat'), ('d', 'dog')])"
      ]
     },
     "execution_count": 8,
     "metadata": {},
     "output_type": "execute_result"
    }
   ],
   "source": [
    "animals.items()"
   ]
  },
  {
   "cell_type": "code",
   "execution_count": 9,
   "id": "467b6984",
   "metadata": {},
   "outputs": [
    {
     "data": {
      "text/plain": [
       "[('a', 'aardvark'), ('b', 'bear'), ('c', 'cat'), ('d', 'dog')]"
      ]
     },
     "execution_count": 9,
     "metadata": {},
     "output_type": "execute_result"
    }
   ],
   "source": [
    "list(animals.items())"
   ]
  },
  {
   "cell_type": "code",
   "execution_count": 10,
   "id": "494fe288",
   "metadata": {},
   "outputs": [
    {
     "data": {
      "text/plain": [
       "[{'letter': 'a', 'name': 'aardvark'},\n",
       " {'letter': 'b', 'name': 'bear'},\n",
       " {'letter': 'c', 'name': 'cat'},\n",
       " {'letter': 'd', 'name': 'dog'}]"
      ]
     },
     "execution_count": 10,
     "metadata": {},
     "output_type": "execute_result"
    }
   ],
   "source": [
    "[{'letter': key, 'name': value} for key, value in animals.items()]"
   ]
  },
  {
   "cell_type": "code",
   "execution_count": 12,
   "id": "7656d84e-c1bb-4a1b-a968-228059d7cd6d",
   "metadata": {},
   "outputs": [
    {
     "data": {
      "text/plain": [
       "dict_items([('a', ['aardvark', 'alberto']), ('b', ['bear', 'bernardo']), ('c', ['cat', 'carlos']), ('d', ['dog', 'diego'])])"
      ]
     },
     "execution_count": 12,
     "metadata": {},
     "output_type": "execute_result"
    }
   ],
   "source": [
    "names.items()"
   ]
  },
  {
   "cell_type": "code",
   "execution_count": 33,
   "id": "41acec48-4023-4098-afa4-29d070636979",
   "metadata": {},
   "outputs": [],
   "source": [
    "otherNames = {item[0]: item[1:] for item in nameList}"
   ]
  },
  {
   "cell_type": "code",
   "execution_count": 34,
   "id": "6716ae4e-1ade-4ef3-afcb-653168eac420",
   "metadata": {},
   "outputs": [
    {
     "name": "stdout",
     "output_type": "stream",
     "text": [
      "{'a': ('aardvark', 'alberto'), 'b': ('bear', 'bernardo'), 'c': ('cat', 'carlos'), 'd': ('dog', 'diego')}\n"
     ]
    }
   ],
   "source": [
    "print(otherNames)"
   ]
  },
  {
   "cell_type": "code",
   "execution_count": 35,
   "id": "4285ad23-0e42-428c-8fd2-5ad7fe42129e",
   "metadata": {},
   "outputs": [
    {
     "data": {
      "text/plain": [
       "dict_items([('a', ('aardvark', 'alberto')), ('b', ('bear', 'bernardo')), ('c', ('cat', 'carlos')), ('d', ('dog', 'diego'))])"
      ]
     },
     "execution_count": 35,
     "metadata": {},
     "output_type": "execute_result"
    }
   ],
   "source": [
    "otherNames.items()"
   ]
  },
  {
   "cell_type": "code",
   "execution_count": 36,
   "id": "b4950757-d651-4828-a36f-61a2efb65f0c",
   "metadata": {},
   "outputs": [
    {
     "ename": "ValueError",
     "evalue": "not enough values to unpack (expected 3, got 2)",
     "output_type": "error",
     "traceback": [
      "\u001b[0;31m---------------------------------------------------------------------------\u001b[0m",
      "\u001b[0;31mValueError\u001b[0m                                Traceback (most recent call last)",
      "Cell \u001b[0;32mIn[36], line 1\u001b[0m\n\u001b[0;32m----> 1\u001b[0m [{\u001b[38;5;124m'\u001b[39m\u001b[38;5;124mprefix\u001b[39m\u001b[38;5;124m'\u001b[39m: key, \u001b[38;5;124m'\u001b[39m\u001b[38;5;124manimal\u001b[39m\u001b[38;5;124m'\u001b[39m: value1, \u001b[38;5;124m'\u001b[39m\u001b[38;5;124mname\u001b[39m\u001b[38;5;124m'\u001b[39m: value2} \u001b[38;5;28;01mfor\u001b[39;00m key, value1, value2 \u001b[38;5;129;01min\u001b[39;00m otherNames\u001b[38;5;241m.\u001b[39mitems()]\n",
      "Cell \u001b[0;32mIn[36], line 1\u001b[0m, in \u001b[0;36m<listcomp>\u001b[0;34m(.0)\u001b[0m\n\u001b[0;32m----> 1\u001b[0m [{\u001b[38;5;124m'\u001b[39m\u001b[38;5;124mprefix\u001b[39m\u001b[38;5;124m'\u001b[39m: key, \u001b[38;5;124m'\u001b[39m\u001b[38;5;124manimal\u001b[39m\u001b[38;5;124m'\u001b[39m: value1, \u001b[38;5;124m'\u001b[39m\u001b[38;5;124mname\u001b[39m\u001b[38;5;124m'\u001b[39m: value2} \u001b[38;5;28;01mfor\u001b[39;00m key, value1, value2 \u001b[38;5;129;01min\u001b[39;00m otherNames\u001b[38;5;241m.\u001b[39mitems()]\n",
      "\u001b[0;31mValueError\u001b[0m: not enough values to unpack (expected 3, got 2)"
     ]
    }
   ],
   "source": [
    "[{'prefix': key, 'animal': value1, 'name': value2} for key, value1, value2 in otherNames.items()]"
   ]
  },
  {
   "cell_type": "code",
   "execution_count": null,
   "id": "bca7504a-9ae2-4af4-94bc-d81657fca953",
   "metadata": {},
   "outputs": [],
   "source": []
  }
 ],
 "metadata": {
  "kernelspec": {
   "display_name": "Python 3 (ipykernel)",
   "language": "python",
   "name": "python3"
  },
  "language_info": {
   "codemirror_mode": {
    "name": "ipython",
    "version": 3
   },
   "file_extension": ".py",
   "mimetype": "text/x-python",
   "name": "python",
   "nbconvert_exporter": "python",
   "pygments_lexer": "ipython3",
   "version": "3.9.10"
  }
 },
 "nbformat": 4,
 "nbformat_minor": 5
}
