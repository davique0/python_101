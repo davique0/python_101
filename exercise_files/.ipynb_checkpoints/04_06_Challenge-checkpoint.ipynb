{
 "cells": [
  {
   "cell_type": "markdown",
   "id": "6a6c3649",
   "metadata": {},
   "source": [
    "## ASCII Art Encoding\n",
    "\n",
    "Write a function \"encodeString\" that will encode a string like 'AAAAABBBBAAA' as a list of tuples: [('A', 5), ('B', 4), ('A', 3)] meaning that the string has \"5 A's, followed by 4 B's, followed by 3 A's\"\n",
    "\n",
    "Then use that function to compress a string containing \"ASCII Art\" (https://en.wikipedia.org/wiki/ASCII_art)\n",
    "\n",
    "Write a corresponding function \"decodeString\" that will take in a list of tuples and print the original string.\n"
   ]
  },
  {
   "cell_type": "code",
   "execution_count": 5,
   "id": "7777d38e",
   "metadata": {},
   "outputs": [],
   "source": [
    "def encodeString(stringVal):\n",
    "    encodeDict = {}\n",
    "    for char in stringVal:\n",
    "        if encodeDict[char]:\n",
    "            encodeDict[char] += 1\n",
    "        else:\n",
    "            encodeDict[char] = 1\n",
    "    print(encodeDict)\n",
    "            \n",
    "\n",
    "def decodeString(encodedList):\n",
    "    pass"
   ]
  },
  {
   "cell_type": "code",
   "execution_count": 6,
   "id": "3eee6256",
   "metadata": {},
   "outputs": [],
   "source": [
    "art = '''\n",
    "\n",
    "                                                                                \n",
    "                                                                                \n",
    "                               %%%%%%%%%%%%%%%%%%%                              \n",
    "                        %%%%%%%%%%%%%%%%%%%%%%%%%%%%%%%%%                       \n",
    "                    %%%%%%%%                         %%%%%%%%                   \n",
    "                %%%%%%%                                   %%%%%%                \n",
    "              %%%%%%                                         %%%%%%             \n",
    "           %%%%%%                                               %%%%%           \n",
    "          %%%%%                                                   %%%%%         \n",
    "        %%%%%                                                       %%%%%       \n",
    "       %%%%                 %%%%%              %%%%%                  %%%%      \n",
    "      %%%%                 %%%%%%%            %%%%%%%                  %%%%     \n",
    "     %%%%                  %%%%%%%            %%%%%%%                   %%%%    \n",
    "    %%%%                   %%%%%%%            %%%%%%%                    %%%%   \n",
    "    %%%%                    %%%%%              %%%%%                     %%%%   \n",
    "   %%%%                                                                   %%%%  \n",
    "   %%%%                                                                   %%%%  \n",
    "   %%%%                                                                   %%%%  \n",
    "   %%%%                                                      %%%%        %%%%   \n",
    "    %%%%       %%%%%%                                        %%%%%       %%%%   \n",
    "    %%%%         %%%%                                       %%%%        %%%%    \n",
    "     %%%%         %%%%                                     %%%%         %%%%    \n",
    "      %%%%         %%%%%                                  %%%%         %%%%     \n",
    "       %%%%%         %%%%%                             %%%%%         %%%%%      \n",
    "        %%%%%          %%%%%%                        %%%%%          %%%%        \n",
    "          %%%%%           %%%%%%%               %%%%%%%           %%%%%         \n",
    "            %%%%%             %%%%%%%%%%%%%%%%%%%%%             %%%%%           \n",
    "              %%%%%%%                                        %%%%%              \n",
    "                 %%%%%%%                                 %%%%%%%                \n",
    "                     %%%%%%%%%                     %%%%%%%%%                    \n",
    "                          %%%%%%%%%%%%%%%%%%%%%%%%%%%%%                         \n",
    "                                   %%%%%%%%%%%%                                 \n",
    "                                                                                \n",
    "                                                                                 \n",
    "\n",
    "'''"
   ]
  },
  {
   "cell_type": "code",
   "execution_count": 7,
   "id": "32baa591-d910-4136-8b1a-201bef917804",
   "metadata": {},
   "outputs": [
    {
     "ename": "KeyError",
     "evalue": "'a'",
     "output_type": "error",
     "traceback": [
      "\u001b[0;31m---------------------------------------------------------------------------\u001b[0m",
      "\u001b[0;31mKeyError\u001b[0m                                  Traceback (most recent call last)",
      "Cell \u001b[0;32mIn[7], line 1\u001b[0m\n\u001b[0;32m----> 1\u001b[0m encodedString \u001b[38;5;241m=\u001b[39m \u001b[43mencodeString\u001b[49m\u001b[43m(\u001b[49m\u001b[38;5;124;43m'\u001b[39;49m\u001b[38;5;124;43maaabbbcccddddd\u001b[39;49m\u001b[38;5;124;43m'\u001b[39;49m\u001b[43m)\u001b[49m\n",
      "Cell \u001b[0;32mIn[5], line 4\u001b[0m, in \u001b[0;36mencodeString\u001b[0;34m(stringVal)\u001b[0m\n\u001b[1;32m      2\u001b[0m encodeDict \u001b[38;5;241m=\u001b[39m {}\n\u001b[1;32m      3\u001b[0m \u001b[38;5;28;01mfor\u001b[39;00m char \u001b[38;5;129;01min\u001b[39;00m stringVal:\n\u001b[0;32m----> 4\u001b[0m     \u001b[38;5;28;01mif\u001b[39;00m \u001b[38;5;129;01mnot\u001b[39;00m \u001b[43mencodeDict\u001b[49m\u001b[43m[\u001b[49m\u001b[43mchar\u001b[49m\u001b[43m]\u001b[49m:\n\u001b[1;32m      5\u001b[0m         encodeDict[char] \u001b[38;5;241m=\u001b[39m \u001b[38;5;241m1\u001b[39m\n\u001b[1;32m      6\u001b[0m     \u001b[38;5;28;01melse\u001b[39;00m:\n",
      "\u001b[0;31mKeyError\u001b[0m: 'a'"
     ]
    }
   ],
   "source": [
    "encodedString = encodeString('aaabbbcccddddd')"
   ]
  },
  {
   "cell_type": "code",
   "execution_count": 3,
   "id": "dec27033",
   "metadata": {},
   "outputs": [
    {
     "ename": "KeyError",
     "evalue": "'\\n'",
     "output_type": "error",
     "traceback": [
      "\u001b[0;31m---------------------------------------------------------------------------\u001b[0m",
      "\u001b[0;31mKeyError\u001b[0m                                  Traceback (most recent call last)",
      "Cell \u001b[0;32mIn[3], line 1\u001b[0m\n\u001b[0;32m----> 1\u001b[0m encodedString \u001b[38;5;241m=\u001b[39m \u001b[43mencodeString\u001b[49m\u001b[43m(\u001b[49m\u001b[43mart\u001b[49m\u001b[43m)\u001b[49m\n",
      "Cell \u001b[0;32mIn[1], line 4\u001b[0m, in \u001b[0;36mencodeString\u001b[0;34m(stringVal)\u001b[0m\n\u001b[1;32m      2\u001b[0m encodeDict \u001b[38;5;241m=\u001b[39m {}\n\u001b[1;32m      3\u001b[0m \u001b[38;5;28;01mfor\u001b[39;00m char \u001b[38;5;129;01min\u001b[39;00m stringVal:\n\u001b[0;32m----> 4\u001b[0m     \u001b[38;5;28;01mif\u001b[39;00m \u001b[43mencodeDict\u001b[49m\u001b[43m[\u001b[49m\u001b[43mchar\u001b[49m\u001b[43m]\u001b[49m:\n\u001b[1;32m      5\u001b[0m         encodeDict[char] \u001b[38;5;241m+\u001b[39m\u001b[38;5;241m=\u001b[39m \u001b[38;5;241m1\u001b[39m\n\u001b[1;32m      6\u001b[0m     \u001b[38;5;28;01melse\u001b[39;00m:\n",
      "\u001b[0;31mKeyError\u001b[0m: '\\n'"
     ]
    }
   ],
   "source": [
    "encodedString = encodeString(art)"
   ]
  },
  {
   "cell_type": "code",
   "execution_count": null,
   "id": "942d4ff8",
   "metadata": {},
   "outputs": [],
   "source": [
    "decodeString(encodedString)"
   ]
  },
  {
   "cell_type": "code",
   "execution_count": null,
   "id": "e1485f53",
   "metadata": {},
   "outputs": [],
   "source": []
  }
 ],
 "metadata": {
  "kernelspec": {
   "display_name": "Python 3 (ipykernel)",
   "language": "python",
   "name": "python3"
  },
  "language_info": {
   "codemirror_mode": {
    "name": "ipython",
    "version": 3
   },
   "file_extension": ".py",
   "mimetype": "text/x-python",
   "name": "python",
   "nbconvert_exporter": "python",
   "pygments_lexer": "ipython3",
   "version": "3.9.10"
  },
  "vscode": {
   "interpreter": {
    "hash": "949777d72b0d2535278d3dc13498b2535136f6dfe0678499012e853ee9abcab1"
   }
  }
 },
 "nbformat": 4,
 "nbformat_minor": 5
}
